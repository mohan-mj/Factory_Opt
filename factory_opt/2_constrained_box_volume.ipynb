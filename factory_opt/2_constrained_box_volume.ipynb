{
 "cells": [
  {
   "cell_type": "code",
   "execution_count": 14,
   "metadata": {},
   "outputs": [],
   "source": [
    "import numpy as np # General numerics\n",
    "from scipy.integrate import odeint # Integration\n",
    "from scipy.optimize import minimize # Optimization\n",
    "import matplotlib.pyplot as plt # Plotting"
   ]
  },
  {
   "cell_type": "code",
   "execution_count": 2,
   "metadata": {},
   "outputs": [],
   "source": [
    "def objective(var):\n",
    "    l, w, h = var\n",
    "    s_area = 2*(l*w+w*h+h*l)\n",
    "    obj = (s_area-10)**2\n",
    "    return obj"
   ]
  },
  {
   "cell_type": "code",
   "execution_count": 3,
   "metadata": {},
   "outputs": [
    {
     "name": "stdout",
     "output_type": "stream",
     "text": [
      "Optimization terminated successfully.\n",
      "         Current function value: 0.000000\n",
      "         Iterations: 5\n",
      "         Function evaluations: 28\n",
      "         Gradient evaluations: 7\n"
     ]
    }
   ],
   "source": [
    "var = [1,1,1]\n",
    "res = minimize(objective, var, options={'disp':True})   "
   ]
  },
  {
   "cell_type": "code",
   "execution_count": 4,
   "metadata": {},
   "outputs": [
    {
     "data": {
      "text/plain": [
       "array([1.29, 1.29, 1.29])"
      ]
     },
     "execution_count": 4,
     "metadata": {},
     "output_type": "execute_result"
    }
   ],
   "source": [
    "res.x.round(2)"
   ]
  },
  {
   "cell_type": "markdown",
   "metadata": {},
   "source": [
    "## Formal"
   ]
  },
  {
   "cell_type": "code",
   "execution_count": 8,
   "metadata": {},
   "outputs": [],
   "source": [
    "vol = lambda x: x[0]*x[1]*x[2]\n",
    "sa = lambda x: 2*(x[0]*x[1]+x[1]*x[2]+x[2]*x[0])"
   ]
  },
  {
   "cell_type": "code",
   "execution_count": 9,
   "metadata": {},
   "outputs": [],
   "source": [
    "objective_fun = lambda x: -vol(x)\n",
    "constraint = lambda x: 10-sa(x)"
   ]
  },
  {
   "cell_type": "code",
   "execution_count": 12,
   "metadata": {},
   "outputs": [],
   "source": [
    "cons = ({'type':'ineq', 'fun':constraint})"
   ]
  },
  {
   "cell_type": "code",
   "execution_count": 20,
   "metadata": {},
   "outputs": [
    {
     "name": "stdout",
     "output_type": "stream",
     "text": [
      "Optimization terminated successfully    (Exit mode 0)\n",
      "            Current function value: -2.151657414612468\n",
      "            Iterations: 4\n",
      "            Function evaluations: 17\n",
      "            Gradient evaluations: 4\n"
     ]
    }
   ],
   "source": [
    "x0 = [1,1,1]\n",
    "sol = minimize(objective_fun, x0, constraints=cons, options={'disp':True})"
   ]
  },
  {
   "cell_type": "code",
   "execution_count": 21,
   "metadata": {},
   "outputs": [
    {
     "data": {
      "text/plain": [
       "     fun: -2.151657414612468\n",
       "     jac: array([-1.66666707, -1.66666707, -1.66666716])\n",
       " message: 'Optimization terminated successfully'\n",
       "    nfev: 17\n",
       "     nit: 4\n",
       "    njev: 4\n",
       "  status: 0\n",
       " success: True\n",
       "       x: array([1.29099448, 1.29099444, 1.29099443])"
      ]
     },
     "execution_count": 21,
     "metadata": {},
     "output_type": "execute_result"
    }
   ],
   "source": [
    "sol"
   ]
  },
  {
   "cell_type": "markdown",
   "metadata": {},
   "source": [
    "# GEKKO"
   ]
  },
  {
   "cell_type": "code",
   "execution_count": 2,
   "metadata": {},
   "outputs": [],
   "source": [
    "from gekko import gekko"
   ]
  },
  {
   "cell_type": "code",
   "execution_count": 3,
   "metadata": {},
   "outputs": [],
   "source": [
    "m = gekko()"
   ]
  },
  {
   "cell_type": "code",
   "execution_count": 4,
   "metadata": {},
   "outputs": [],
   "source": [
    "l = m.Var(value=1)\n",
    "w = m.Var(value=1)\n",
    "h = m.Var(value=1)\n",
    "v = m.Var()\n",
    "s_area = m.Var()"
   ]
  },
  {
   "cell_type": "code",
   "execution_count": 5,
   "metadata": {},
   "outputs": [
    {
     "data": {
      "text/plain": [
       "<gekko.gekko.EquationObj at 0x2117d0b4128>"
      ]
     },
     "execution_count": 5,
     "metadata": {},
     "output_type": "execute_result"
    }
   ],
   "source": [
    "m.Equation(v==l*w*h)\n",
    "m.Equation(s_area==2*(l*w+w*h+h*l))"
   ]
  },
  {
   "cell_type": "code",
   "execution_count": 6,
   "metadata": {},
   "outputs": [],
   "source": [
    "m.Equation(s_area<=10)\n",
    "m.Obj(-v)\n",
    "m.options.IMODE=3"
   ]
  },
  {
   "cell_type": "code",
   "execution_count": 7,
   "metadata": {},
   "outputs": [
    {
     "name": "stdout",
     "output_type": "stream",
     "text": [
      "apm 165.225.122.239_gk_model0 <br><pre> ----------------------------------------------------------------\n",
      " APMonitor, Version 1.0.1\n",
      " APMonitor Optimization Suite\n",
      " ----------------------------------------------------------------\n",
      " \n",
      " \n",
      " --------- APM Model Size ------------\n",
      " Each time step contains\n",
      "   Objects      :            0\n",
      "   Constants    :            0\n",
      "   Variables    :            6\n",
      "   Intermediates:            0\n",
      "   Connections  :            0\n",
      "   Equations    :            4\n",
      "   Residuals    :            4\n",
      " \n",
      " Number of state variables:              6\n",
      " Number of total equations: -            3\n",
      " Number of slack variables: -            1\n",
      " ---------------------------------------\n",
      " Degrees of freedom       :              2\n",
      " \n",
      " **********************************************\n",
      " Steady State Optimization with Interior Point Solver\n",
      " **********************************************\n",
      "  \n",
      "  \n",
      " Info: Exact Hessian\n",
      "\n",
      "******************************************************************************\n",
      "This program contains Ipopt, a library for large-scale nonlinear optimization.\n",
      " Ipopt is released as open source code under the Eclipse Public License (EPL).\n",
      "         For more information visit http://projects.coin-or.org/Ipopt\n",
      "******************************************************************************\n",
      "\n",
      "This is Ipopt version 3.12.10, running with linear solver ma57.\n",
      "\n",
      "Number of nonzeros in equality constraint Jacobian...:       10\n",
      "Number of nonzeros in inequality constraint Jacobian.:        0\n",
      "Number of nonzeros in Lagrangian Hessian.............:        3\n",
      "\n",
      "Total number of variables............................:        6\n",
      "                     variables with only lower bounds:        1\n",
      "                variables with lower and upper bounds:        0\n",
      "                     variables with only upper bounds:        0\n",
      "Total number of equality constraints.................:        3\n",
      "Total number of inequality constraints...............:        0\n",
      "        inequality constraints with only lower bounds:        0\n",
      "   inequality constraints with lower and upper bounds:        0\n",
      "        inequality constraints with only upper bounds:        0\n",
      "\n",
      "iter    objective    inf_pr   inf_du lg(mu)  ||d||  lg(rg) alpha_du alpha_pr  ls\n",
      "   0  0.0000000e+00 9.99e+00 3.60e-01   0.0 0.00e+00    -  0.00e+00 0.00e+00   0\n",
      "   1 -1.9983455e+00 6.64e-01 2.66e-02  -8.0 9.99e+00    -  1.00e+00 1.00e+00h  1\n",
      "   2 -2.1481408e+00 1.02e-02 7.96e-04  -8.7 1.50e-01    -  1.00e+00 1.00e+00h  1\n",
      "   3 -2.1516553e+00 2.43e-06 3.92e-07  -5.9 3.51e-03    -  1.00e+00 1.00e+00h  1\n",
      "   4 -2.1516574e+00 7.28e-14 3.35e-14 -11.0 4.14e-06    -  1.00e+00 1.00e+00h  1\n",
      "\n",
      "Number of Iterations....: 4\n",
      "\n",
      "                                   (scaled)                 (unscaled)\n",
      "Objective...............:  -2.1516574177769381e+00   -2.1516574177769381e+00\n",
      "Dual infeasibility......:   3.3528735343679728e-14    3.3528735343679728e-14\n",
      "Constraint violation....:   7.2830630415410269e-14    7.2830630415410269e-14\n",
      "Complementarity.........:   1.0200445831003396e-11    1.0200445831003396e-11\n",
      "Overall NLP error.......:   1.0200445831003396e-11    1.0200445831003396e-11\n",
      "\n",
      "\n",
      "Number of objective function evaluations             = 5\n",
      "Number of objective gradient evaluations             = 5\n",
      "Number of equality constraint evaluations            = 5\n",
      "Number of inequality constraint evaluations          = 0\n",
      "Number of equality constraint Jacobian evaluations   = 5\n",
      "Number of inequality constraint Jacobian evaluations = 0\n",
      "Number of Lagrangian Hessian evaluations             = 4\n",
      "Total CPU secs in IPOPT (w/o function evaluations)   =      0.002\n",
      "Total CPU secs in NLP function evaluations           =      0.000\n",
      "\n",
      "EXIT: Optimal Solution Found.\n",
      " \n",
      " The solution was found.\n",
      " \n",
      " The final value of the objective function is   -2.15165741777694     \n",
      " \n",
      " ---------------------------------------------------\n",
      " Solver         :  IPOPT (v3.12)\n",
      " Solution time  :   7.899999999608553E-003 sec\n",
      " Objective      :   -2.15165741777694     \n",
      " Successful solution\n",
      " ---------------------------------------------------\n",
      " \n"
     ]
    }
   ],
   "source": [
    "m.solve()"
   ]
  },
  {
   "cell_type": "code",
   "execution_count": 13,
   "metadata": {},
   "outputs": [
    {
     "name": "stdout",
     "output_type": "stream",
     "text": [
      "[1.2909944494] [1.2909944494] [1.2909944494]\n"
     ]
    }
   ],
   "source": [
    "print(l.value, w.value , h.value)"
   ]
  },
  {
   "cell_type": "code",
   "execution_count": null,
   "metadata": {},
   "outputs": [],
   "source": []
  }
 ],
 "metadata": {
  "interpreter": {
   "hash": "d1d0a794395a5631c7b720ecf7916627e6430423d8fb2f7a85e0a967da23c25b"
  },
  "kernelspec": {
   "display_name": "Python 3.8.10 ('.venv': poetry)",
   "language": "python",
   "name": "python3"
  },
  "language_info": {
   "codemirror_mode": {
    "name": "ipython",
    "version": 3
   },
   "file_extension": ".py",
   "mimetype": "text/x-python",
   "name": "python",
   "nbconvert_exporter": "python",
   "pygments_lexer": "ipython3",
   "version": "3.7.3"
  },
  "orig_nbformat": 4
 },
 "nbformat": 4,
 "nbformat_minor": 2
}
