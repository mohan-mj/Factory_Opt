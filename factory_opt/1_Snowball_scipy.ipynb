{
 "cells": [
  {
   "cell_type": "markdown",
   "metadata": {},
   "source": [
    "<img src=\"pics/snowball-1.png\">\n",
    "<img src=\"pics/snowball-2.png\">"
   ]
  },
  {
   "cell_type": "code",
   "execution_count": 9,
   "metadata": {},
   "outputs": [
    {
     "name": "stdout",
     "output_type": "stream",
     "text": [
      "The autoreload extension is already loaded. To reload it, use:\n",
      "  %reload_ext autoreload\n"
     ]
    }
   ],
   "source": [
    "%load_ext autoreload\n",
    "%autoreload 2\n",
    "import numpy as np # General numerics\n",
    "from scipy.integrate import odeint # Integration\n",
    "from scipy.optimize import minimize # Optimization\n",
    "import matplotlib.pyplot as plt # Plotting\n",
    "\n",
    "from snowball_util import SNOWBALL_OPT"
   ]
  },
  {
   "cell_type": "code",
   "execution_count": 10,
   "metadata": {},
   "outputs": [
    {
     "name": "stdout",
     "output_type": "stream",
     "text": [
      "Optimization terminated successfully.\n",
      "         Current function value: 0.000000\n",
      "         Iterations: 7\n",
      "         Function evaluations: 18\n",
      "         Gradient evaluations: 9\n",
      "Initial Mass:  47 kg   (94  lbs)\n",
      "Initial Radius:  32 cm   (12  inches)\n"
     ]
    }
   ],
   "source": [
    "Snow = SNOWBALL_OPT()\n",
    "# Call optimization using the functions defined above\n",
    "res = minimize(Snow.objective, 10, options={'disp':True})    \n",
    "\n",
    "# Get optimized initial mass from solution\n",
    "m0_opt = res.x[0]\n",
    "\n",
    "# Calculate optimized initial radius from initial mass\n",
    "r0_opt = Snow.radius_from_mass(m0_opt)\n",
    "\n",
    "print(f\"Initial Mass:  {round(m0_opt)} kg   ({round(m0_opt*2.02)}  lbs)\")\n",
    "print(f\"Initial Radius:  {round(r0_opt*100)} cm   ({round(r0_opt*39.37)}  inches)\")"
   ]
  },
  {
   "cell_type": "code",
   "execution_count": 13,
   "metadata": {},
   "outputs": [
    {
     "name": "stdout",
     "output_type": "stream",
     "text": [
      "Final Force: 24999.999998130676\n",
      "Final Position: 204.94808517899443\n",
      "Final Velocity: 13.409047599167527\n"
     ]
    },
    {
     "data": {
      "text/plain": [
       "<matplotlib.legend.Legend at 0x21b7f5d5bb0>"
      ]
     },
     "execution_count": 13,
     "metadata": {},
     "output_type": "execute_result"
    },
    {
     "data": {
      "image/png": "[encoded data removed]",
      "text/plain": [
       "<Figure size 432x288 with 1 Axes>"
      ]
     },
     "metadata": {
      "needs_background": "light"
     },
     "output_type": "display_data"
    }
   ],
   "source": [
    "# Just to prove to ourselves that the answer is correct, let's calculate\n",
    "# the final force using the optimized initial conditions\n",
    "\n",
    "# Set initial conditions\n",
    "w0 = [m0_opt,r0_opt,Snow.s0,Snow.v0]\n",
    "\n",
    "# Load parameters\n",
    "p = [m0_opt,Snow.C_d,Snow.g,Snow.rho,Snow.theta,Snow.rho_a,Snow.beta]\n",
    "\n",
    "# Set up time array to solve for 30 seconds\n",
    "t = np.linspace(0,30)\n",
    "\n",
    "# Integrate forward\n",
    "sol = odeint(Snow.snowball_dynamics,w0,t)\n",
    "\n",
    "# Get kinetic energy\n",
    "ke = 0.5 * sol[:,0][-1] * sol[:,3][-1]**2\n",
    "\n",
    "# Get final stopping force\n",
    "F = ke / sol[:,1][-1]\n",
    "print('Final Force: ' + str(F))\n",
    "\n",
    "# Final Position\n",
    "print('Final Position: ' + str(sol[:,2][-1]))\n",
    "print('Final Velocity: ' + str(sol[:,3][-1]))\n",
    "\n",
    "# And some plots of the results\n",
    "plt.figure()\n",
    "plt.plot(t,sol[:,0],label='Mass')\n",
    "plt.plot(t,sol[:,1],label='Radius')\n",
    "plt.plot(t,sol[:,2],label='Position')\n",
    "plt.plot(t,sol[:,3],label='Velocity')\n",
    "plt.title('Snowball')\n",
    "plt.xlabel('Time (s)')\n",
    "plt.legend()"
   ]
  },
  {
   "cell_type": "code",
   "execution_count": null,
   "metadata": {},
   "outputs": [],
   "source": []
  }
 ],
 "metadata": {
  "interpreter": {
   "hash": "d1d0a794395a5631c7b720ecf7916627e6430423d8fb2f7a85e0a967da23c25b"
  },
  "kernelspec": {
   "display_name": "Python 3.8.10 ('.venv': poetry)",
   "language": "python",
   "name": "python3"
  },
  "language_info": {
   "codemirror_mode": {
    "name": "ipython",
    "version": 3
   },
   "file_extension": ".py",
   "mimetype": "text/x-python",
   "name": "python",
   "nbconvert_exporter": "python",
   "pygments_lexer": "ipython3",
   "version": "3.8.10"
  },
  "orig_nbformat": 4
 },
 "nbformat": 4,
 "nbformat_minor": 2
}
